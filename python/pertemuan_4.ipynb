{
  "nbformat": 4,
  "nbformat_minor": 0,
  "metadata": {
    "colab": {
      "name": "pertemuan 4",
      "provenance": [],
      "collapsed_sections": [],
      "authorship_tag": "ABX9TyNLau6I2lG1fjCTSwR91IZY",
      "include_colab_link": true
    },
    "kernelspec": {
      "name": "python3",
      "display_name": "Python 3"
    }
  },
  "cells": [
    {
      "cell_type": "markdown",
      "metadata": {
        "id": "view-in-github",
        "colab_type": "text"
      },
      "source": [
        "<a href=\"https://colab.research.google.com/github/ariaghora/pascal-ml-class/blob/master/python/pertemuan_4.ipynb\" target=\"_parent\"><img src=\"https://colab.research.google.com/assets/colab-badge.svg\" alt=\"Open In Colab\"/></a>"
      ]
    },
    {
      "cell_type": "code",
      "metadata": {
        "id": "PRCTf8Z_y6-H"
      },
      "source": [
        "import numpy as np\n",
        "import pandas as pd\n",
        "import matplotlib.pyplot as plt\n",
        "from sklearn.cluster import KMeans, DBSCAN"
      ],
      "execution_count": 146,
      "outputs": []
    },
    {
      "cell_type": "code",
      "metadata": {
        "id": "KsoCA_vwy_25"
      },
      "source": [
        "'''\n",
        "Kolom: usia, pendapatan per tahun (ribu USD), spending score (1-100)\n",
        "'''\n",
        "dataset = np.loadtxt('mall_customers.csv', delimiter=',')\n",
        "\n",
        "print(dataset[:10]) # 10 baris pertama"
      ],
      "execution_count": null,
      "outputs": []
    },
    {
      "cell_type": "markdown",
      "metadata": {
        "id": "0DwrkKOzDteF"
      },
      "source": [
        "## Ekspolorasi data\n",
        "\n",
        "- Clustering adalah gabungan antara matematik dan intuisi\n",
        "- Perlu pula pemahaman domain terkait"
      ]
    },
    {
      "cell_type": "code",
      "metadata": {
        "id": "4EVtPUvzD4fs"
      },
      "source": [
        "plt.scatter(dataset[:, 0], dataset[:, 1]) # usia vs pengeluaran tahunan\n",
        "plt.show()\n",
        "\n",
        "plt.scatter(dataset[:, 0], dataset[:, 2]) # usia vs spending score\n",
        "plt.show()\n",
        "\n",
        "plt.scatter(dataset[:, 1], dataset[:, 2]) # pengeluaran tahunan vs spending score\n",
        "plt.show()"
      ],
      "execution_count": null,
      "outputs": []
    },
    {
      "cell_type": "markdown",
      "metadata": {
        "id": "5PUj_YHjEf7i"
      },
      "source": [
        "## K-Means Clustering"
      ]
    },
    {
      "cell_type": "code",
      "metadata": {
        "id": "n8aaMsr6Aiji",
        "outputId": "805389cb-7f0b-4e14-8493-d54342427363",
        "colab": {
          "base_uri": "https://localhost:8080/"
        }
      },
      "source": [
        "kmeans = KMeans(5)\n",
        "kmeans.fit(dataset)"
      ],
      "execution_count": 69,
      "outputs": [
        {
          "output_type": "execute_result",
          "data": {
            "text/plain": [
              "KMeans(algorithm='auto', copy_x=True, init='k-means++', max_iter=300,\n",
              "       n_clusters=5, n_init=10, n_jobs=None, precompute_distances='auto',\n",
              "       random_state=None, tol=0.0001, verbose=0)"
            ]
          },
          "metadata": {
            "tags": []
          },
          "execution_count": 69
        }
      ]
    },
    {
      "cell_type": "code",
      "metadata": {
        "id": "3mY_DaaXAyUy"
      },
      "source": [
        "cluster_labels = kmeans.predict(dataset)\n",
        "\n",
        "plt.scatter(dataset[:, 1], dataset[:, 2], c=cluster_labels)\n",
        "plt.show()"
      ],
      "execution_count": null,
      "outputs": []
    },
    {
      "cell_type": "code",
      "metadata": {
        "id": "G06aNc6lNfgZ"
      },
      "source": [
        "from sklearn.metrics import silhouette_score\n",
        "\n",
        "for i in range(2, 10):\n",
        "    kmeans = KMeans(i)\n",
        "    kmeans.fit(dataset)\n",
        "    cluster_labels = kmeans.predict(dataset)\n",
        "    score = silhouette_score(dataset, cluster_labels)\n",
        "    print(score)\n",
        "\n"
      ],
      "execution_count": null,
      "outputs": []
    },
    {
      "cell_type": "markdown",
      "metadata": {
        "id": "8c4n04ApQK-_"
      },
      "source": [
        "### Apakah silhouette score (kuantitas) menentukan bagus/tidaknya (kualitas) cluster?\n",
        "\n",
        "Belum tentu ☺\n",
        "\n",
        "Silhouette score (dan alat ukur lainnya) hanyalah salah satu metode untuk mencari parameter secara \"heuristik\"."
      ]
    },
    {
      "cell_type": "markdown",
      "metadata": {
        "id": "VTg6MD_qFM_q"
      },
      "source": [
        "### Kapan K-means gagal?"
      ]
    },
    {
      "cell_type": "code",
      "metadata": {
        "id": "vghtTEAgFMCH",
        "outputId": "71c92da0-7a18-4993-bae2-976fd257978f",
        "colab": {
          "base_uri": "https://localhost:8080/",
          "height": 265
        }
      },
      "source": [
        "from sklearn.datasets import make_moons\n",
        "\n",
        "X, y = make_moons(200, noise=0.05)\n",
        "\n",
        "plt.scatter(X[:, 0], X[:, 1])\n",
        "plt.show()"
      ],
      "execution_count": 71,
      "outputs": [
        {
          "output_type": "display_data",
          "data": {
            "image/png": "[encoded data removed]",
            "text/plain": [
              "<Figure size 432x288 with 1 Axes>"
            ]
          },
          "metadata": {
            "tags": [],
            "needs_background": "light"
          }
        }
      ]
    },
    {
      "cell_type": "code",
      "metadata": {
        "id": "Ey38zosSHkTn",
        "outputId": "ec83919d-c765-45a4-89c7-6313a8b0cdf4",
        "colab": {
          "base_uri": "https://localhost:8080/",
          "height": 545
        }
      },
      "source": [
        "dbscan = DBSCAN(0.2)\n",
        "kmeans = KMeans(2)\n",
        "\n",
        "dbscan_labels = dbscan.fit_predict(X)\n",
        "kmeans_labels = kmeans.fit_predict(X)\n",
        "\n",
        "plt.scatter(X[:, 0], X[:, 1], c=dbscan_labels)\n",
        "plt.title('DBSCAN')\n",
        "plt.show()\n",
        "\n",
        "plt.scatter(X[:, 0], X[:, 1], c=kmeans_labels)\n",
        "plt.title('K-Means')\n",
        "plt.show()"
      ],
      "execution_count": 54,
      "outputs": [
        {
          "output_type": "display_data",
          "data": {
            "image/png": "[encoded data removed]",
            "text/plain": [
              "<Figure size 432x288 with 1 Axes>"
            ]
          },
          "metadata": {
            "tags": [],
            "needs_background": "light"
          }
        },
        {
          "output_type": "display_data",
          "data": {
            "image/png": "[encoded data removed]",
            "text/plain": [
              "<Figure size 432x288 with 1 Axes>"
            ]
          },
          "metadata": {
            "tags": [],
            "needs_background": "light"
          }
        }
      ]
    },
    {
      "cell_type": "code",
      "metadata": {
        "id": "GnyWgMmIBniD",
        "outputId": "38caeb7a-e734-45d8-d843-c59ff65d72fd",
        "colab": {
          "base_uri": "https://localhost:8080/"
        }
      },
      "source": [
        "!pip install apyori"
      ],
      "execution_count": 15,
      "outputs": [
        {
          "output_type": "stream",
          "text": [
            "Collecting apyori\n",
            "  Downloading https://files.pythonhosted.org/packages/5e/62/5ffde5c473ea4b033490617ec5caa80d59804875ad3c3c57c0976533a21a/apyori-1.1.2.tar.gz\n",
            "Building wheels for collected packages: apyori\n",
            "  Building wheel for apyori (setup.py) ... \u001b[?25l\u001b[?25hdone\n",
            "  Created wheel for apyori: filename=apyori-1.1.2-cp36-none-any.whl size=5975 sha256=e20213011341ecb34c47f12515b70a6ed69a33c7530bd90c23ad21e385af0a42\n",
            "  Stored in directory: /root/.cache/pip/wheels/5d/92/bb/474bbadbc8c0062b9eb168f69982a0443263f8ab1711a8cad0\n",
            "Successfully built apyori\n",
            "Installing collected packages: apyori\n",
            "Successfully installed apyori-1.1.2\n"
          ],
          "name": "stdout"
        }
      ]
    },
    {
      "cell_type": "markdown",
      "metadata": {
        "id": "iL0vrsqLTpBG"
      },
      "source": [
        "# Association rule mining"
      ]
    },
    {
      "cell_type": "code",
      "metadata": {
        "id": "VDoQ9pRRU1lU"
      },
      "source": [
        "from apyori import apriori"
      ],
      "execution_count": 81,
      "outputs": []
    },
    {
      "cell_type": "code",
      "metadata": {
        "id": "oUiuSqaQTrUj",
        "outputId": "bb2818fe-18d9-435c-c6d4-aedfb0beea94",
        "colab": {
          "base_uri": "https://localhost:8080/"
        }
      },
      "source": [
        "raw = [line.strip() for line in open('store_data.csv', 'r').readlines()]\n",
        "transaksi = [line.split(',') for line in raw]\n",
        "\n",
        "print('Jml baris transaksi: ', len(transaksi))\n",
        "transaksi[:5]"
      ],
      "execution_count": 137,
      "outputs": [
        {
          "output_type": "stream",
          "text": [
            "Jml baris transaksi:  7501\n"
          ],
          "name": "stdout"
        },
        {
          "output_type": "execute_result",
          "data": {
            "text/plain": [
              "[['shrimp',\n",
              "  'almonds',\n",
              "  'avocado',\n",
              "  'vegetables mix',\n",
              "  'green grapes',\n",
              "  'whole weat flour',\n",
              "  'yams',\n",
              "  'cottage cheese',\n",
              "  'energy drink',\n",
              "  'tomato juice',\n",
              "  'low fat yogurt',\n",
              "  'green tea',\n",
              "  'honey',\n",
              "  'salad',\n",
              "  'mineral water',\n",
              "  'salmon',\n",
              "  'antioxydant juice',\n",
              "  'frozen smoothie',\n",
              "  'spinach',\n",
              "  'olive oil'],\n",
              " ['burgers', 'meatballs', 'eggs'],\n",
              " ['chutney'],\n",
              " ['turkey', 'avocado'],\n",
              " ['mineral water', 'milk', 'energy bar', 'whole wheat rice', 'green tea']]"
            ]
          },
          "metadata": {
            "tags": []
          },
          "execution_count": 137
        }
      ]
    },
    {
      "cell_type": "code",
      "metadata": {
        "id": "ZJCssg2EUFkz"
      },
      "source": [
        "hasil = apriori(transaksi,\n",
        "                min_support=0.005,\n",
        "                min_confidence=0.2,\n",
        "                min_lift=3.0,\n",
        "                min_length=2)\n",
        "\n",
        "rules = []\n",
        "for relation_record in hasil:\n",
        "    for relations in relation_record.ordered_statistics:\n",
        "        rule = [set(relations.items_base), set(relations.items_add), relations.confidence, relations.lift]\n",
        "        rules.append(rule)\n",
        "\n",
        "mined_rules = pd.DataFrame(rules, columns=['Precedent (X)', 'Antecedent (Y)', 'Confidence', 'Lift'])"
      ],
      "execution_count": 142,
      "outputs": []
    },
    {
      "cell_type": "code",
      "metadata": {
        "id": "_p6YBMqiUIJe",
        "outputId": "b096071b-fe5a-4d85-dafe-f9832671f0d4",
        "colab": {
          "base_uri": "https://localhost:8080/",
          "height": 696
        }
      },
      "source": [
        "mined_rules.sort_values(by='Lift', ascending=False)"
      ],
      "execution_count": 145,
      "outputs": [
        {
          "output_type": "execute_result",
          "data": {
            "text/html": [
              "<div>\n",
              "<style scoped>\n",
              "    .dataframe tbody tr th:only-of-type {\n",
              "        vertical-align: middle;\n",
              "    }\n",
              "\n",
              "    .dataframe tbody tr th {\n",
              "        vertical-align: top;\n",
              "    }\n",
              "\n",
              "    .dataframe thead th {\n",
              "        text-align: right;\n",
              "    }\n",
              "</style>\n",
              "<table border=\"1\" class=\"dataframe\">\n",
              "  <thead>\n",
              "    <tr style=\"text-align: right;\">\n",
              "      <th></th>\n",
              "      <th>Precedent (X)</th>\n",
              "      <th>Antecedent (Y)</th>\n",
              "      <th>Confidence</th>\n",
              "      <th>Lift</th>\n",
              "    </tr>\n",
              "  </thead>\n",
              "  <tbody>\n",
              "    <tr>\n",
              "      <th>1</th>\n",
              "      <td>{pasta}</td>\n",
              "      <td>{escalope}</td>\n",
              "      <td>0.372881</td>\n",
              "      <td>4.700812</td>\n",
              "    </tr>\n",
              "    <tr>\n",
              "      <th>5</th>\n",
              "      <td>{pasta}</td>\n",
              "      <td>{shrimp}</td>\n",
              "      <td>0.322034</td>\n",
              "      <td>4.506672</td>\n",
              "    </tr>\n",
              "    <tr>\n",
              "      <th>4</th>\n",
              "      <td>{whole wheat pasta}</td>\n",
              "      <td>{olive oil}</td>\n",
              "      <td>0.271493</td>\n",
              "      <td>4.122410</td>\n",
              "    </tr>\n",
              "    <tr>\n",
              "      <th>16</th>\n",
              "      <td>{herb &amp; pepper, spaghetti}</td>\n",
              "      <td>{ground beef}</td>\n",
              "      <td>0.393443</td>\n",
              "      <td>4.004360</td>\n",
              "    </tr>\n",
              "    <tr>\n",
              "      <th>15</th>\n",
              "      <td>{mineral water, herb &amp; pepper}</td>\n",
              "      <td>{ground beef}</td>\n",
              "      <td>0.390625</td>\n",
              "      <td>3.975683</td>\n",
              "    </tr>\n",
              "    <tr>\n",
              "      <th>3</th>\n",
              "      <td>{tomato sauce}</td>\n",
              "      <td>{ground beef}</td>\n",
              "      <td>0.377358</td>\n",
              "      <td>3.840659</td>\n",
              "    </tr>\n",
              "    <tr>\n",
              "      <th>0</th>\n",
              "      <td>{mushroom cream sauce}</td>\n",
              "      <td>{escalope}</td>\n",
              "      <td>0.300699</td>\n",
              "      <td>3.790833</td>\n",
              "    </tr>\n",
              "    <tr>\n",
              "      <th>12</th>\n",
              "      <td>{frozen vegetables, spaghetti}</td>\n",
              "      <td>{tomatoes}</td>\n",
              "      <td>0.239234</td>\n",
              "      <td>3.498046</td>\n",
              "    </tr>\n",
              "    <tr>\n",
              "      <th>19</th>\n",
              "      <td>{mineral water, soup}</td>\n",
              "      <td>{olive oil}</td>\n",
              "      <td>0.225434</td>\n",
              "      <td>3.423030</td>\n",
              "    </tr>\n",
              "    <tr>\n",
              "      <th>13</th>\n",
              "      <td>{tomatoes, spaghetti}</td>\n",
              "      <td>{frozen vegetables}</td>\n",
              "      <td>0.318471</td>\n",
              "      <td>3.341054</td>\n",
              "    </tr>\n",
              "    <tr>\n",
              "      <th>2</th>\n",
              "      <td>{herb &amp; pepper}</td>\n",
              "      <td>{ground beef}</td>\n",
              "      <td>0.323450</td>\n",
              "      <td>3.291994</td>\n",
              "    </tr>\n",
              "    <tr>\n",
              "      <th>14</th>\n",
              "      <td>{spaghetti, grated cheese}</td>\n",
              "      <td>{ground beef}</td>\n",
              "      <td>0.322581</td>\n",
              "      <td>3.283144</td>\n",
              "    </tr>\n",
              "    <tr>\n",
              "      <th>6</th>\n",
              "      <td>{chocolate, frozen vegetables}</td>\n",
              "      <td>{shrimp}</td>\n",
              "      <td>0.232558</td>\n",
              "      <td>3.254512</td>\n",
              "    </tr>\n",
              "    <tr>\n",
              "      <th>9</th>\n",
              "      <td>{mineral water, shrimp}</td>\n",
              "      <td>{frozen vegetables}</td>\n",
              "      <td>0.305085</td>\n",
              "      <td>3.200616</td>\n",
              "    </tr>\n",
              "    <tr>\n",
              "      <th>8</th>\n",
              "      <td>{frozen vegetables, spaghetti}</td>\n",
              "      <td>{ground beef}</td>\n",
              "      <td>0.311005</td>\n",
              "      <td>3.165328</td>\n",
              "    </tr>\n",
              "    <tr>\n",
              "      <th>10</th>\n",
              "      <td>{frozen vegetables, spaghetti}</td>\n",
              "      <td>{olive oil}</td>\n",
              "      <td>0.205742</td>\n",
              "      <td>3.124024</td>\n",
              "    </tr>\n",
              "    <tr>\n",
              "      <th>7</th>\n",
              "      <td>{chocolate, shrimp}</td>\n",
              "      <td>{frozen vegetables}</td>\n",
              "      <td>0.296296</td>\n",
              "      <td>3.108418</td>\n",
              "    </tr>\n",
              "    <tr>\n",
              "      <th>18</th>\n",
              "      <td>{milk, spaghetti}</td>\n",
              "      <td>{olive oil}</td>\n",
              "      <td>0.203008</td>\n",
              "      <td>3.082509</td>\n",
              "    </tr>\n",
              "    <tr>\n",
              "      <th>20</th>\n",
              "      <td>{spaghetti, pancakes}</td>\n",
              "      <td>{olive oil}</td>\n",
              "      <td>0.201058</td>\n",
              "      <td>3.052910</td>\n",
              "    </tr>\n",
              "    <tr>\n",
              "      <th>11</th>\n",
              "      <td>{frozen vegetables, spaghetti}</td>\n",
              "      <td>{shrimp}</td>\n",
              "      <td>0.215311</td>\n",
              "      <td>3.013149</td>\n",
              "    </tr>\n",
              "    <tr>\n",
              "      <th>17</th>\n",
              "      <td>{ground beef, shrimp}</td>\n",
              "      <td>{spaghetti}</td>\n",
              "      <td>0.523256</td>\n",
              "      <td>3.005315</td>\n",
              "    </tr>\n",
              "  </tbody>\n",
              "</table>\n",
              "</div>"
            ],
            "text/plain": [
              "                     Precedent (X)       Antecedent (Y)  Confidence      Lift\n",
              "1                          {pasta}           {escalope}    0.372881  4.700812\n",
              "5                          {pasta}             {shrimp}    0.322034  4.506672\n",
              "4              {whole wheat pasta}          {olive oil}    0.271493  4.122410\n",
              "16      {herb & pepper, spaghetti}        {ground beef}    0.393443  4.004360\n",
              "15  {mineral water, herb & pepper}        {ground beef}    0.390625  3.975683\n",
              "3                   {tomato sauce}        {ground beef}    0.377358  3.840659\n",
              "0           {mushroom cream sauce}           {escalope}    0.300699  3.790833\n",
              "12  {frozen vegetables, spaghetti}           {tomatoes}    0.239234  3.498046\n",
              "19           {mineral water, soup}          {olive oil}    0.225434  3.423030\n",
              "13           {tomatoes, spaghetti}  {frozen vegetables}    0.318471  3.341054\n",
              "2                  {herb & pepper}        {ground beef}    0.323450  3.291994\n",
              "14      {spaghetti, grated cheese}        {ground beef}    0.322581  3.283144\n",
              "6   {chocolate, frozen vegetables}             {shrimp}    0.232558  3.254512\n",
              "9          {mineral water, shrimp}  {frozen vegetables}    0.305085  3.200616\n",
              "8   {frozen vegetables, spaghetti}        {ground beef}    0.311005  3.165328\n",
              "10  {frozen vegetables, spaghetti}          {olive oil}    0.205742  3.124024\n",
              "7              {chocolate, shrimp}  {frozen vegetables}    0.296296  3.108418\n",
              "18               {milk, spaghetti}          {olive oil}    0.203008  3.082509\n",
              "20           {spaghetti, pancakes}          {olive oil}    0.201058  3.052910\n",
              "11  {frozen vegetables, spaghetti}             {shrimp}    0.215311  3.013149\n",
              "17           {ground beef, shrimp}          {spaghetti}    0.523256  3.005315"
            ]
          },
          "metadata": {
            "tags": []
          },
          "execution_count": 145
        }
      ]
    },
    {
      "cell_type": "code",
      "metadata": {
        "id": "qNe6ix20VHx8",
        "outputId": "7890676a-9ed3-46dc-e45b-f5142476d20c",
        "colab": {
          "base_uri": "https://localhost:8080/"
        }
      },
      "source": [
        ""
      ],
      "execution_count": 133,
      "outputs": [
        {
          "output_type": "execute_result",
          "data": {
            "text/plain": [
              "7501"
            ]
          },
          "metadata": {
            "tags": []
          },
          "execution_count": 133
        }
      ]
    }
  ]
}