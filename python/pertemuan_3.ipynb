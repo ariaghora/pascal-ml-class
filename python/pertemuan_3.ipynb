{
  "nbformat": 4,
  "nbformat_minor": 0,
  "metadata": {
    "colab": {
      "name": "pertemuan 3.ipynb",
      "provenance": [],
      "collapsed_sections": [],
      "authorship_tag": "ABX9TyOAWyUxBxVjFu6HTSI/9GOT",
      "include_colab_link": true
    },
    "kernelspec": {
      "name": "python3",
      "display_name": "Python 3"
    }
  },
  "cells": [
    {
      "cell_type": "markdown",
      "metadata": {
        "id": "view-in-github",
        "colab_type": "text"
      },
      "source": [
        "<a href=\"https://colab.research.google.com/github/ariaghora/pascal-ml-class/blob/master/python/pertemuan_3.ipynb\" target=\"_parent\"><img src=\"https://colab.research.google.com/assets/colab-badge.svg\" alt=\"Open In Colab\"/></a>"
      ]
    },
    {
      "cell_type": "code",
      "metadata": {
        "id": "rq5bs5gmvsIg"
      },
      "source": [
        "import torch\n",
        "import numpy as np"
      ],
      "execution_count": 292,
      "outputs": []
    },
    {
      "cell_type": "markdown",
      "metadata": {
        "id": "qLIWnP95FRrb"
      },
      "source": [
        "# Neural net sederhana"
      ]
    },
    {
      "cell_type": "code",
      "metadata": {
        "id": "fa4YOWpd0CCK"
      },
      "source": [
        "data_mobil = np.loadtxt('cancer.csv', delimiter=',')  \n",
        "\n",
        "x = data_mobil[:, range(30)]\n",
        "x = (x - x.mean(0)) / x.std(0)  # normalisasi\n",
        "\n",
        "jml_sampel, jml_feature = x.shape\n",
        "\n",
        "y = data_mobil[:, 30].reshape(jml_sampel, 1) # kolom label"
      ],
      "execution_count": 294,
      "outputs": []
    },
    {
      "cell_type": "markdown",
      "metadata": {
        "id": "7vQYZbM8c8y7"
      },
      "source": [
        "## Konversi data numpy ke tensor"
      ]
    },
    {
      "cell_type": "code",
      "metadata": {
        "id": "yg6Z_M3kc71g"
      },
      "source": [
        "x = torch.from_numpy(x).float()\n",
        "y = torch.from_numpy(y).float()"
      ],
      "execution_count": 295,
      "outputs": []
    },
    {
      "cell_type": "code",
      "metadata": {
        "id": "N82dZZEB0ecC"
      },
      "source": [
        "def sigmoid(x):\n",
        "    return 1 / (1 + torch.exp(-x))\n",
        "\n",
        "w1 = torch.zeros((30, 10))\n",
        "w2 = torch.zeros((10, 1))\n",
        "b1 = torch.zeros((1, 10))\n",
        "b2 = torch.zeros((1, 1))\n",
        "\n",
        "model_params = [w1, b1, w2, b2]\n",
        "for param in model_params:\n",
        "    param.requires_grad_(True)\n",
        "\n",
        "lr = 0.1\n",
        "\n",
        "# optim = torch.optim.SGD(model_params, lr)\n",
        "\n",
        "errs = []\n",
        "# training via gradient descent\n",
        "for i in range(2000):\n",
        "    hidden1 = sigmoid(x @ w1 + b1)\n",
        "    y_pred = sigmoid(hidden1 @ w2 + b2)\n",
        "\n",
        "    loss = -(1 / jml_sampel) * torch.sum(y * torch.log(y_pred) + (1 - y) * torch.log(1 - y_pred))\n",
        "    loss.backward() # <-- kunci: automatic gradient computation\n",
        "\n",
        "    errs.append(loss.item())\n",
        "    \n",
        "    w1.data = w1.data - lr * w1.grad\n",
        "    b1.data = b1.data - lr * b1.grad\n",
        "    w2.data = w2.data - lr * w2.grad\n",
        "    b2.data = b2.data - lr * b2.grad\n",
        "    \n",
        "    # optim.step() atau dengan optimizer <==\n",
        "\n",
        "    # reset gradient, agar tidak terus menerus terakumulasi\n",
        "    # tiap iterasi\n",
        "    \n",
        "    for param in model_params:\n",
        "        param.grad = None\n",
        "\n",
        "    # atau optim.zero_grad()"
      ],
      "execution_count": 258,
      "outputs": []
    },
    {
      "cell_type": "code",
      "metadata": {
        "id": "-t8iJGOk1MQo",
        "outputId": "8f24f207-81aa-4309-9684-9ca91b76dbfc",
        "colab": {
          "base_uri": "https://localhost:8080/",
          "height": 282
        }
      },
      "source": [
        "import matplotlib.pyplot as plt\n",
        "plt.plot(errs)"
      ],
      "execution_count": 259,
      "outputs": [
        {
          "output_type": "execute_result",
          "data": {
            "text/plain": [
              "[<matplotlib.lines.Line2D at 0x7fdad44cd940>]"
            ]
          },
          "metadata": {
            "tags": []
          },
          "execution_count": 259
        },
        {
          "output_type": "display_data",
          "data": {
            "image/png": "[encoded data removed]",
            "text/plain": [
              "<Figure size 432x288 with 1 Axes>"
            ]
          },
          "metadata": {
            "tags": [],
            "needs_background": "light"
          }
        }
      ]
    },
    {
      "cell_type": "code",
      "metadata": {
        "id": "wM3_u6212Zrx",
        "outputId": "a775891f-cff0-419c-eb39-6008cf5e6a75",
        "colab": {
          "base_uri": "https://localhost:8080/"
        }
      },
      "source": [
        "((y_pred>0.5) == y).float().mean()"
      ],
      "execution_count": 256,
      "outputs": [
        {
          "output_type": "execute_result",
          "data": {
            "text/plain": [
              "tensor(0.9859)"
            ]
          },
          "metadata": {
            "tags": []
          },
          "execution_count": 256
        }
      ]
    },
    {
      "cell_type": "code",
      "metadata": {
        "id": "6IluJnuy-C6W"
      },
      "source": [
        ""
      ],
      "execution_count": 95,
      "outputs": []
    },
    {
      "cell_type": "markdown",
      "metadata": {
        "id": "7E4Su07fEIjs"
      },
      "source": [
        "# Neural net 2 hidden layer"
      ]
    },
    {
      "cell_type": "code",
      "metadata": {
        "id": "IDXBMwqXIi5B"
      },
      "source": [
        "from sklearn.preprocessing import label_binarize"
      ],
      "execution_count": 131,
      "outputs": []
    },
    {
      "cell_type": "code",
      "metadata": {
        "id": "cX-0O1w1EK6r"
      },
      "source": [
        "# Digit dataset\n",
        "dataset_train = np.loadtxt('optdigits-train.csv', delimiter=',')  \n",
        "\n",
        "# feature\n",
        "x = dataset_train[:, range(64)]\n",
        "x = x / x.max()\n",
        "jml_sampel, jml_feature = x.shape\n",
        "\n",
        "# kolom label\n",
        "y = dataset_train[:, 64].reshape(jml_sampel, 1)\n",
        "\n",
        "# Kasus ini adalah klasifikasi dengan jml kelas > 2. \n",
        "# Kolom label harus dikonversi dalam format \"one-hot\" encoding\n",
        "classes = [i for i in range(10)] # kelas kita adalah digit 0-9\n",
        "y = label_binarize(y, classes)\n",
        "\n",
        "# Konversi ke tensor\n",
        "x = torch.from_numpy(x).float()\n",
        "y = torch.from_numpy(y).long()"
      ],
      "execution_count": 261,
      "outputs": []
    },
    {
      "cell_type": "markdown",
      "metadata": {
        "id": "nVULfuGpFOQe"
      },
      "source": [
        "## Visualisasi"
      ]
    },
    {
      "cell_type": "code",
      "metadata": {
        "id": "JQ5fPDRGEb7S",
        "outputId": "7e748b3f-cb77-4d57-9873-b4cdd55d839e",
        "colab": {
          "base_uri": "https://localhost:8080/",
          "height": 282
        }
      },
      "source": [
        "plt.imshow(x[100].reshape(8,8))\n",
        "plt.show()\n",
        "print(f'Label: {y[100]}')"
      ],
      "execution_count": 262,
      "outputs": [
        {
          "output_type": "display_data",
          "data": {
            "image/png": "[encoded data removed]",
            "text/plain": [
              "<Figure size 432x288 with 1 Axes>"
            ]
          },
          "metadata": {
            "tags": [],
            "needs_background": "light"
          }
        },
        {
          "output_type": "stream",
          "text": [
            "Label: tensor([0, 0, 0, 0, 1, 0, 0, 0, 0, 0])\n"
          ],
          "name": "stdout"
        }
      ]
    },
    {
      "cell_type": "code",
      "metadata": {
        "id": "_wCIYRSAE7ya",
        "outputId": "63b27b38-cde4-4695-dfdd-663cde283e3f",
        "colab": {
          "base_uri": "https://localhost:8080/"
        }
      },
      "source": [
        "# Model kita\n",
        "w1 = torch.randn(64, 100) / 100 # dibagi 100 agar tidak terlalu besar\n",
        "w2 = torch.randn(100, 20) / 100\n",
        "w3 = torch.randn(20, 10) / 100\n",
        "b1 = torch.zeros(100)\n",
        "b2 = torch.zeros(20)\n",
        "b3 = torch.zeros(10)\n",
        "\n",
        "model_params = [w1, w2, w3, b1, b2, b3]\n",
        "for param in model_params:\n",
        "    param.requires_grad_(True)\n",
        "\n",
        "\n",
        "lr = 0.01\n",
        "optim = torch.optim.Adam(model_params, lr=lr)\n",
        "ce_loss = torch.nn.CrossEntropyLoss()\n",
        "\n",
        "# def pred(x):\n",
        "\n",
        "for i in range(1000):\n",
        "    hidden1 = torch.sigmoid(x @ w1 + b1)\n",
        "    hidden2 = torch.sigmoid(hidden1 @ w2 + b2)\n",
        "    y_pred = torch.softmax(hidden2 @ w3 + b3, 1)\n",
        "\n",
        "    loss = -torch.mean(torch.sum(y * torch.log(y_pred), 1))\n",
        "    loss.backward()\n",
        "\n",
        "    if i % 100 == 0:\n",
        "        print(f'loss di iterasi {i}: {loss.item()}')\n",
        "\n",
        "    optim.step()\n",
        "\n",
        "    for param in model_params:\n",
        "        param.grad = None"
      ],
      "execution_count": 275,
      "outputs": [
        {
          "output_type": "stream",
          "text": [
            "loss di iterasi 0: 2.3028295040130615\n",
            "loss di iterasi 100: 0.2580100893974304\n",
            "loss di iterasi 200: 0.043125350028276443\n",
            "loss di iterasi 300: 0.015293220989406109\n",
            "loss di iterasi 400: 0.008089594542980194\n",
            "loss di iterasi 500: 0.004528537858277559\n",
            "loss di iterasi 600: 0.003132701152935624\n",
            "loss di iterasi 700: 0.002328142523765564\n",
            "loss di iterasi 800: 0.0018105373019352555\n",
            "loss di iterasi 900: 0.0014537964016199112\n"
          ],
          "name": "stdout"
        }
      ]
    },
    {
      "cell_type": "code",
      "metadata": {
        "id": "HuGA5A4rHd82",
        "outputId": "37dd6124-4288-4856-cfe3-f0ed83952674",
        "colab": {
          "base_uri": "https://localhost:8080/"
        }
      },
      "source": [
        "train_acc = (y_pred.argmax(1) == y.argmax(1)).float().mean()\n",
        "print(f'train accuracy = {train_acc}')"
      ],
      "execution_count": 276,
      "outputs": [
        {
          "output_type": "stream",
          "text": [
            "train accuracy = 1.0\n"
          ],
          "name": "stdout"
        }
      ]
    },
    {
      "cell_type": "code",
      "metadata": {
        "id": "QJ5aD4LLHjyw"
      },
      "source": [
        "# Test digit dataset\n",
        "dataset_test = np.loadtxt('optdigits-test.csv', delimiter=',')  \n",
        "\n",
        "# feature\n",
        "x_test = dataset_test[:, range(64)]\n",
        "x_test = x_test / x_test.max()\n",
        "x_test = torch.from_numpy(x_test).float()\n",
        "\n",
        "jml_sampel, jml_feature = x_test.shape\n",
        "\n",
        "# label\n",
        "y_test = dataset_test[:, 64].reshape(jml_sampel, 1)\n",
        "y_test = torch.from_numpy(y_test).float()"
      ],
      "execution_count": 277,
      "outputs": []
    },
    {
      "cell_type": "code",
      "metadata": {
        "id": "ieKWU-__XSZs"
      },
      "source": [
        "# prediksi\n",
        "hidden1 = torch.sigmoid(x_test @ w1 + b1)\n",
        "hidden2 = torch.sigmoid(hidden1 @ w2 + b2)\n",
        "y_pred = torch.softmax(hidden2 @ w3 + b3, 1)\n",
        "\n",
        "test_acc = (y_pred.argmax(1, keepdim=True) == y_test).float().mean()"
      ],
      "execution_count": 278,
      "outputs": []
    },
    {
      "cell_type": "code",
      "metadata": {
        "id": "N1VxqO30XmNG",
        "outputId": "635102a7-c23e-4426-df01-d7398b7bf248",
        "colab": {
          "base_uri": "https://localhost:8080/"
        }
      },
      "source": [
        "print(f'test accuracy = {test_acc}')"
      ],
      "execution_count": 279,
      "outputs": [
        {
          "output_type": "stream",
          "text": [
            "test accuracy = 0.9588202834129333\n"
          ],
          "name": "stdout"
        }
      ]
    },
    {
      "cell_type": "code",
      "metadata": {
        "id": "0rMC7J64YWg9",
        "outputId": "1e5e707d-a5ba-4dbf-e19b-36a0fd0054d2",
        "colab": {
          "base_uri": "https://localhost:8080/",
          "height": 282
        }
      },
      "source": [
        "plt.imshow(x_test[500].reshape(8,8))"
      ],
      "execution_count": 286,
      "outputs": [
        {
          "output_type": "execute_result",
          "data": {
            "text/plain": [
              "<matplotlib.image.AxesImage at 0x7fdac9131c88>"
            ]
          },
          "metadata": {
            "tags": []
          },
          "execution_count": 286
        },
        {
          "output_type": "display_data",
          "data": {
            "image/png": "[encoded data removed]",
            "text/plain": [
              "<Figure size 432x288 with 1 Axes>"
            ]
          },
          "metadata": {
            "tags": [],
            "needs_background": "light"
          }
        }
      ]
    },
    {
      "cell_type": "code",
      "metadata": {
        "id": "YlDcfIm2cbPW"
      },
      "source": [
        "# prediksi\n",
        "hidden1 = torch.sigmoid(x_test[500].reshape(1, -1) @ w1 + b1)\n",
        "hidden2 = torch.sigmoid(hidden1 @ w2 + b2)\n",
        "y_pred = torch.softmax(hidden2 @ w3 + b3, 1)"
      ],
      "execution_count": 288,
      "outputs": []
    },
    {
      "cell_type": "code",
      "metadata": {
        "id": "kDx_BUzJcprW",
        "outputId": "6cbdc1c9-d667-4741-8ad0-ac364ffe766e",
        "colab": {
          "base_uri": "https://localhost:8080/"
        }
      },
      "source": [
        "y_pred.argmax(1)"
      ],
      "execution_count": 291,
      "outputs": [
        {
          "output_type": "execute_result",
          "data": {
            "text/plain": [
              "tensor([8])"
            ]
          },
          "metadata": {
            "tags": []
          },
          "execution_count": 291
        }
      ]
    }
  ]
}