{
  "cells": [
    {
      "cell_type": "code",
      "source": [
        "import numpy as np\r\n",
        "\r\n",
        "A = np.array([1, 2, 3, 4]).reshape(2,2)\r\n",
        "B = 100\r\n",
        "\r\n",
        "print(f'A:\\n {A}')\r\n",
        "print(f'A transpose:\\n {A.T}')\r\n",
        "print(f'A+B:\\n {A+B}')\r\n",
        "print(f'sin(A^2):\\n {np.sin(A ** 2)}')\r\n",
        "\r\n",
        "dataset = np.loadtxt('../dataset/mall_customers.csv', delimiter=',')\r\n",
        "print(f'dataset:\\n{dataset}')"
      ],
      "outputs": [],
      "execution_count": null,
      "metadata": {
        "collapsed": true,
        "jupyter": {
          "source_hidden": false,
          "outputs_hidden": false
        },
        "nteract": {
          "transient": {
            "deleting": false
          }
        },
        "execution": {
          "iopub.status.busy": "2020-10-30T17:35:24.787Z",
          "iopub.execute_input": "2020-10-30T17:35:24.797Z",
          "iopub.status.idle": "2020-10-30T17:35:24.881Z",
          "shell.execute_reply": "2020-10-30T17:35:24.900Z"
        }
      }
    },
    {
      "cell_type": "code",
      "source": [],
      "outputs": [],
      "execution_count": null,
      "metadata": {
        "collapsed": true,
        "jupyter": {
          "source_hidden": false,
          "outputs_hidden": false
        },
        "nteract": {
          "transient": {
            "deleting": false
          }
        },
        "execution": {
          "iopub.status.busy": "2020-10-30T17:31:45.428Z",
          "iopub.execute_input": "2020-10-30T17:31:45.432Z",
          "iopub.status.idle": "2020-10-30T17:31:45.467Z",
          "shell.execute_reply": "2020-10-30T17:31:45.472Z"
        }
      }
    },
    {
      "cell_type": "code",
      "source": [],
      "outputs": [],
      "execution_count": null,
      "metadata": {
        "collapsed": true,
        "jupyter": {
          "source_hidden": false,
          "outputs_hidden": false
        },
        "nteract": {
          "transient": {
            "deleting": false
          }
        },
        "execution": {
          "iopub.status.busy": "2020-10-30T17:32:01.967Z",
          "iopub.execute_input": "2020-10-30T17:32:01.975Z",
          "iopub.status.idle": "2020-10-30T17:32:02.018Z",
          "shell.execute_reply": "2020-10-30T17:32:02.022Z"
        }
      }
    },
    {
      "cell_type": "code",
      "source": [],
      "outputs": [],
      "execution_count": null,
      "metadata": {
        "collapsed": true,
        "jupyter": {
          "source_hidden": false,
          "outputs_hidden": false
        },
        "nteract": {
          "transient": {
            "deleting": false
          }
        }
      }
    }
  ],
  "metadata": {
    "kernel_info": {
      "name": "python3"
    },
    "language_info": {
      "name": "python",
      "version": "3.7.3",
      "mimetype": "text/x-python",
      "codemirror_mode": {
        "name": "ipython",
        "version": 3
      },
      "pygments_lexer": "ipython3",
      "nbconvert_exporter": "python",
      "file_extension": ".py"
    },
    "kernelspec": {
      "argv": [
        "C:\\ProgramData\\Anaconda3\\python.exe",
        "-m",
        "ipykernel_launcher",
        "-f",
        "{connection_file}"
      ],
      "display_name": "Python 3",
      "language": "python",
      "name": "python3"
    },
    "nteract": {
      "version": "0.26.0"
    }
  },
  "nbformat": 4,
  "nbformat_minor": 0
}