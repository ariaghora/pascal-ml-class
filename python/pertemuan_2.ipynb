{
  "nbformat": 4,
  "nbformat_minor": 0,
  "metadata": {
    "colab": {
      "name": "pertemuan 2.ipynb",
      "provenance": [],
      "collapsed_sections": [],
      "toc_visible": true
    },
    "kernelspec": {
      "name": "python3",
      "display_name": "Python 3"
    }
  },
  "cells": [
    {
      "cell_type": "code",
      "metadata": {
        "id": "8-gzEL0UiBWe"
      },
      "source": [
        "import numpy as np\n",
        "import matplotlib.pyplot as plt"
      ],
      "execution_count": 272,
      "outputs": []
    },
    {
      "cell_type": "markdown",
      "metadata": {
        "id": "lKcJZ4MeheKg"
      },
      "source": [
        "## Model linier"
      ]
    },
    {
      "cell_type": "code",
      "metadata": {
        "id": "GwS85uZKAzx1"
      },
      "source": [
        "# parameter pada model\n",
        "w = \n",
        "b = \n",
        "\n",
        "# sampel rumah\n",
        "x = \n",
        "\n",
        "# prediksi harga rumah\n",
        "y_pred = "
      ],
      "execution_count": null,
      "outputs": []
    },
    {
      "cell_type": "code",
      "metadata": {
        "id": "B3_R-4Wu3dVX"
      },
      "source": [
        "#-----"
      ],
      "execution_count": null,
      "outputs": []
    },
    {
      "cell_type": "markdown",
      "metadata": {
        "id": "ZKIAv7IihtZn"
      },
      "source": [
        "## Data mobil: Linear regression"
      ]
    },
    {
      "cell_type": "code",
      "metadata": {
        "id": "EMLewEZphwOM"
      },
      "source": [
        "data_mobil = np.loadtxt('car_price.csv', delimiter=',')  # boleh juga gunakan pandas.read_csv()\n",
        "\n",
        "x = data_mobil[:, range(13)]\n",
        "x = (x - x.mean(0)) / x.std(0)\n",
        "\n",
        "jml_sampel, jml_feature = x.shape\n",
        "y = data_mobil[:, 13].reshape(jml_sampel, 1)"
      ],
      "execution_count": 277,
      "outputs": []
    },
    {
      "cell_type": "code",
      "metadata": {
        "id": "JBzEgFYjkGYY"
      },
      "source": [
        "plt.plot(y, label='harga sebenarnya')\n",
        "plt.legend()\n",
        "plt.show()"
      ],
      "execution_count": null,
      "outputs": []
    },
    {
      "cell_type": "markdown",
      "metadata": {
        "id": "lBD7KYg80oCL"
      },
      "source": [
        "### Tebakan polos dan lugu"
      ]
    },
    {
      "cell_type": "code",
      "metadata": {
        "id": "X8BBT7BzkVQU"
      },
      "source": [
        "# parameter pada model\n",
        "w = np.zeros((jml_feature, 1))\n",
        "b = 0\n",
        "\n",
        "y_pred = x @ w + b\n",
        "\n",
        "# Seberapa error?\n",
        "err = np.mean((y_pred - y) ** 2)\n",
        "print('error awal                 :', err)\n",
        "\n",
        "# hmm... harus pasang w dan b berapa? 🤔\n",
        "# coba tebak-tebakan 🤨\n",
        "w = np.array([11, 22, 33, 44, 55, 66, 77, 88, 99, 00, 11, 22, 33])\n",
        "b = 12345\n",
        "\n",
        "y_pred = x @ w + b\n",
        "\n",
        "# Seberapa error?\n",
        "# err = np.mean((y_pred - y) ** 2)\n",
        "# print('error setelah tebak-tebakan:', err)"
      ],
      "execution_count": null,
      "outputs": []
    },
    {
      "cell_type": "markdown",
      "metadata": {
        "id": "yDzEPYvs0zLq"
      },
      "source": [
        "### Tebakan pintar"
      ]
    },
    {
      "cell_type": "code",
      "metadata": {
        "id": "Uk2N74mn0yb4"
      },
      "source": [
        "# parameter pada model\n",
        "w = np.zeros((jml_feature, 1))\n",
        "b = 0\n",
        "\n",
        "# gradient descent\n",
        "lr = 0.01\n",
        "\n",
        "# secara berulang-ulang, update w dan b\n",
        "for i in range(1000):\n",
        "    y_pred = x @ w + b\n",
        "\n",
        "    dw = (2 / jml_sampel) * np.matmul(x.T, (y_pred - y))\n",
        "    db = (2 / jml_sampel) * np.sum(y_pred - y)\n",
        "\n",
        "    w = w - lr * dw\n",
        "    b = b - lr * db\n",
        "\n",
        "    err = np.mean((y_pred - y) ** 2)\n",
        "\n",
        "print('error terakhir', err)"
      ],
      "execution_count": null,
      "outputs": []
    },
    {
      "cell_type": "code",
      "metadata": {
        "id": "KNeYBw0zmfSk"
      },
      "source": [
        "plt.plot(y, label='sebenarnya')\n",
        "plt.plot(y_pred, label='prediksi')\n",
        "plt.xlabel('ID mobil')\n",
        "plt.ylabel('Harga mobil')\n",
        "plt.legend()\n",
        "plt.show()"
      ],
      "execution_count": null,
      "outputs": []
    },
    {
      "cell_type": "markdown",
      "metadata": {
        "id": "JsQh7mRdfvtG"
      },
      "source": [
        "### Seputar interpretasi koefisien"
      ]
    },
    {
      "cell_type": "code",
      "metadata": {
        "id": "uzw-BwLsomhT"
      },
      "source": [
        "print('bobot:')\n",
        "print(w)"
      ],
      "execution_count": null,
      "outputs": []
    },
    {
      "cell_type": "markdown",
      "metadata": {
        "id": "f4abMyrqVKvF"
      },
      "source": [
        "# Data kanker: Logistic regression"
      ]
    },
    {
      "cell_type": "code",
      "metadata": {
        "id": "YfwhE2LdVKMf"
      },
      "source": [
        "data_kanker = np.loadtxt('cancer.csv', delimiter=',')  # boleh juga gunakan pandas.read_csv()\n",
        "\n",
        "x = data_kanker[:, range(30)]\n",
        "x = (x - x.mean(0)) / x.std(0)\n",
        "\n",
        "jml_sampel, jml_feature = x.shape\n",
        "\n",
        "y = data_kanker[:, 30].reshape(jml_sampel, 1)"
      ],
      "execution_count": 282,
      "outputs": []
    },
    {
      "cell_type": "code",
      "metadata": {
        "id": "i4VFd78KVUOu"
      },
      "source": [
        "# parameter pada model\n",
        "w = np.zeros((jml_feature, 1))\n",
        "b = 0\n",
        "\n",
        "def logistic(prediction):\n",
        "    return 1 / (1 + np.exp(-prediction))\n",
        "\n",
        "# gradient descent\n",
        "lr = 0.01\n",
        "\n",
        "# secara berulang-ulang, update w dan b\n",
        "for i in range(2000):\n",
        "    y_pred = logistic(x @ w + b)\n",
        "\n",
        "    dw = (2 / jml_sampel) * np.matmul(x.T, (y_pred - y))\n",
        "    db = (2 / jml_sampel) * np.sum(y_pred - y)\n",
        "\n",
        "    w = w - lr * dw\n",
        "    b = b - lr * db\n",
        "\n",
        "    err =  -(1/jml_sampel) * np.sum(y * np.log(y_pred) + (1 - y) * np.log(1 - y_pred))\n",
        "\n",
        "print('error terakhir', err)"
      ],
      "execution_count": null,
      "outputs": []
    },
    {
      "cell_type": "code",
      "metadata": {
        "id": "i0yD6k5rVUkj"
      },
      "source": [
        "plt.scatter(range(len(y)), y, label='sebenarnya')\n",
        "plt.scatter(range(len(y_pred)), (y_pred > 0.5), label='prediksi')\n",
        "plt.xlabel('ID mobil')\n",
        "plt.ylabel('Harga mobil')\n",
        "plt.legend()\n",
        "plt.show()"
      ],
      "execution_count": null,
      "outputs": []
    },
    {
      "cell_type": "code",
      "metadata": {
        "id": "FBrBR-naWTJb"
      },
      "source": [
        "pred_class = [y_pred > 0.5]\n",
        "accuracy = np.mean(pred_class == y)\n",
        "print(f'akruasi training = {accuracy}')"
      ],
      "execution_count": null,
      "outputs": []
    },
    {
      "cell_type": "markdown",
      "metadata": {
        "id": "T_Dypdyrb_oV"
      },
      "source": [
        "## Pertimbangkan untuk memecah dataset: training & testing"
      ]
    },
    {
      "cell_type": "code",
      "metadata": {
        "id": "bZ025X5abn4u"
      },
      "source": [
        ""
      ],
      "execution_count": 270,
      "outputs": []
    }
  ]
}